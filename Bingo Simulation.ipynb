{
 "cells": [
  {
   "cell_type": "code",
   "execution_count": 32,
   "metadata": {
    "collapsed": true
   },
   "outputs": [],
   "source": [
    "import numpy as np\n",
    "import matplotlib.pyplot as plt\n",
    "import collections\n",
    "import"
   ]
  },
  {
   "cell_type": "code",
   "execution_count": 14,
   "metadata": {},
   "outputs": [],
   "source": [
    "def dice_rolls(num_dice=2):\n",
    "    \"\"\"\n",
    "    simulating dice rolls\n",
    "    \"\"\"\n",
    "    added_total = 0\n",
    "    for die in range(num_dice):\n",
    "        added_total+=np.random.randint(1,7)\n",
    "    return added_total"
   ]
  },
  {
   "cell_type": "code",
   "execution_count": 86,
   "metadata": {
    "collapsed": true
   },
   "outputs": [],
   "source": [
    "def favourable_count(roll_outcome, favourable_cnt):\n",
    "    \"\"\"\n",
    "    using a list to increment all favourable outcomes from 1 to 20 for and given roll\n",
    "    \"\"\"\n",
    "    for element in favourable_cnt:\n",
    "        if(element%roll_outcome==0):\n",
    "            favourable_cnt[element]+=1\n",
    "    return favourable_cnt"
   ]
  },
  {
   "cell_type": "code",
   "execution_count": 98,
   "metadata": {},
   "outputs": [],
   "source": [
    "def sim_runs(num_sim=100000):\n",
    "    \"\"\"\n",
    "    running the simulation many times, to check which numbers were favourable\n",
    "    \"\"\"\n",
    "    #Initilise favourable count to 0\n",
    "    favourable_cnt = dict()\n",
    "    for num in range(1,21):\n",
    "        favourable_cnt[num]=0\n",
    "    list_dice_rolls = list()\n",
    "    for run in range(num_sim):\n",
    "        roll_outcome = dice_rolls()\n",
    "        favourable_cnt = favourable_count(roll_outcome,favourable_cnt)\n",
    "        list_dice_rolls.append(roll_outcome)\n",
    "    plt.hist(list_dice_rolls, bins=12)\n",
    "    plt.show()\n",
    "    return list_dice_rolls, favourable_cnt"
   ]
  },
  {
   "cell_type": "code",
   "execution_count": 115,
   "metadata": {},
   "outputs": [
    {
     "data": {
      "image/png": "[encoded data removed]",
      "text/plain": [
       "<matplotlib.figure.Figure at 0x7fbfc2e9a9e8>"
      ]
     },
     "metadata": {},
     "output_type": "display_data"
    }
   ],
   "source": [
    "list_dice_rolls, favourable_cnt = sim_runs()"
   ]
  },
  {
   "cell_type": "code",
   "execution_count": 116,
   "metadata": {},
   "outputs": [
    {
     "data": {
      "text/plain": [
       "{1: 0,\n",
       " 2: 2789,\n",
       " 3: 5531,\n",
       " 4: 11349,\n",
       " 5: 10914,\n",
       " 6: 22237,\n",
       " 7: 16621,\n",
       " 8: 25150,\n",
       " 9: 16662,\n",
       " 10: 22142,\n",
       " 11: 5605,\n",
       " 12: 33489,\n",
       " 13: 0,\n",
       " 14: 19410,\n",
       " 15: 16445,\n",
       " 16: 25150,\n",
       " 17: 0,\n",
       " 18: 33368,\n",
       " 19: 0,\n",
       " 20: 30702}"
      ]
     },
     "execution_count": 116,
     "metadata": {},
     "output_type": "execute_result"
    }
   ],
   "source": [
    "favourable_cnt"
   ]
  },
  {
   "cell_type": "markdown",
   "metadata": {},
   "source": [
    "## The most favorable numbers are 18,12,20,16, in that order\n",
    "## Scoring the Bingo Board based on the number of row scratches they can be involved in would give\n",
    "## Middle Box - 4\n",
    "## Corner Boxes - 3\n",
    "## Edge Boxes - 2\n",
    "\n",
    "## The Bingo box can be arranged such that\n",
    "#     12    16    20\n",
    "#     20    18    16\n",
    "#     18    20    12\n",
    "\n"
   ]
  },
  {
   "cell_type": "markdown",
   "metadata": {},
   "source": [
    "The Explanation behind choosing 4 numbers is to capture variance of Roll_Outcome\n",
    "### 18 - 2,3,6,9\n",
    "### 12 - 2,3,4,6\n",
    "### 16 - 2,4,8\n",
    "### 20 - 2,4,5,10"
   ]
  },
  {
   "cell_type": "code",
   "execution_count": null,
   "metadata": {},
   "outputs": [],
   "source": []
  },
  {
   "cell_type": "code",
   "execution_count": null,
   "metadata": {},
   "outputs": [],
   "source": []
  },
  {
   "cell_type": "code",
   "execution_count": null,
   "metadata": {},
   "outputs": [],
   "source": []
  },
  {
   "cell_type": "code",
   "execution_count": null,
   "metadata": {},
   "outputs": [],
   "source": []
  },
  {
   "cell_type": "code",
   "execution_count": null,
   "metadata": {},
   "outputs": [],
   "source": []
  },
  {
   "cell_type": "code",
   "execution_count": null,
   "metadata": {},
   "outputs": [],
   "source": []
  },
  {
   "cell_type": "code",
   "execution_count": null,
   "metadata": {
    "collapsed": true
   },
   "outputs": [],
   "source": []
  }
 ],
 "metadata": {
  "kernelspec": {
   "display_name": "Python 3",
   "language": "python",
   "name": "python3"
  },
  "language_info": {
   "codemirror_mode": {
    "name": "ipython",
    "version": 3
   },
   "file_extension": ".py",
   "mimetype": "text/x-python",
   "name": "python",
   "nbconvert_exporter": "python",
   "pygments_lexer": "ipython3",
   "version": "3.6.3"
  }
 },
 "nbformat": 4,
 "nbformat_minor": 2
}
